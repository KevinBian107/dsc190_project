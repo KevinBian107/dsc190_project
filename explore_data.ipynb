{
 "cells": [
  {
   "cell_type": "code",
   "execution_count": 1,
   "metadata": {},
   "outputs": [],
   "source": [
    "import json"
   ]
  },
  {
   "cell_type": "code",
   "execution_count": 23,
   "metadata": {},
   "outputs": [
    {
     "name": "stdout",
     "output_type": "stream",
     "text": [
      "Given a household activity plan as follows:\n",
      "Walk to home office. Walk to computer. Switch on computer. Turn to computer. Sit on chair.\n",
      "Q: What is the name of the activity?\n",
      "A: watch youtube\n",
      "\n",
      "Given a household activity plan as follows:\n",
      "Walk to home office. Walk to cat. Grab toy. Put toy on chair.\n",
      "Q: What is the name of the activity?\n",
      "A: pet cat\n",
      "\n",
      "Given a household activity plan as follows:\n",
      "Walk to home office. Walk to dining room. Walk to food food. Grab pot. Put pot on plate. Open freezer. Grab spoon. Put spoon on sauce pan.\n",
      "Q: What is the name of the activity?\n",
      "A:\n",
      "cook some food\n"
     ]
    }
   ],
   "source": [
    "with open('hu-mcts-llm/data/train/train_act_recog.json', 'r') as file:\n",
    "    for l in file:\n",
    "        line_1 = eval(l)\n",
    "        break\n",
    "\n",
    "print(line_1['input'])\n",
    "print(line_1['ref'])"
   ]
  },
  {
   "cell_type": "code",
   "execution_count": 25,
   "metadata": {},
   "outputs": [
    {
     "name": "stdout",
     "output_type": "stream",
     "text": [
      "Given a sequence of actions in a house, and a question about what items are located in a specific place. Answer the number of items and list the items.\n",
      "\n",
      "Q: Sue was at home. She scrubbed a closet drawer, opened a clothes pile, and grabbed a cell phone in hand. She pulled a remote control and found a coffee table. She put the cell phone on the coffee table and turned to a hanger and then to the ceiling. She grabbed a rug in hand and switched on the cell phone. She put the rug on the coffee table and lay on it. She grabbed the rug in hand and lay on it again. She found the coffee table and put the rug on it. She scrubbed the coffee table and then grabbed the rug in hand. She turned to the ceiling and found the coffee table, where she put the rug again and scrubbed it. Finally, she ran to a cabinet, grabbed a folder in hand, and scrubbed the cabinet. She found the coffee table and put the folder on it. How many items are there on the coffee table?\n",
      "A: There are 3 items on the coffee table. They are the cell phone, the rug, and the folder.\n",
      "\n",
      "Q: Samantha was at home when she came across a wall. She touched a bathroom cabinet and proceeded to wash a character. After this, she began scrubbing the bathroom cabinet twice, followed by washing the wall. She then ran to a floor, washed the character, and quickly made her way to another floor. How many items are there on the floor?\n",
      "A: There is no item on the floor.\n",
      "\n",
      "Q: Andrew was at home. He rinsed a plate and grabbed a candle, then turned on a cell phone. He found a nightstand and put the candle on it. He washed the slippers and ran to a floor, where he touched a bookshelf. How many items are there on the nightstand?\n",
      "A: There is one item on the nightstand. It is the candle.\n",
      "\n",
      "Q: Jason was at home. He pressed a cell phone, then picked up a rug and sat down on the bed. He washed his slippers before finding a desk and placing the rug on it. After cleaning the floor and a character, he grabbed the rug and touched the desk. He moved the desk, opened it, and took the rug in his hand again. Running to a housemate, he rinsed the rug before returning to the desk to place it on top once more. How many items are there on the desk?\n",
      "A:\n",
      "There is one item on the desk. It is the rug.\n"
     ]
    }
   ],
   "source": [
    "with open('hu-mcts-llm/data/train/train_count.json', 'r') as file:\n",
    "    for l in file:\n",
    "        line_1 = eval(l)\n",
    "        break\n",
    "\n",
    "print(line_1['input'])\n",
    "print(line_1['ref'])"
   ]
  },
  {
   "cell_type": "code",
   "execution_count": 26,
   "metadata": {},
   "outputs": [
    {
     "name": "stdout",
     "output_type": "stream",
     "text": [
      "Brown entered the bathroom. Mary went to the bedroom. Brown went to the hallway. Mary grabbed the shoes. Mary walked into the home office. Sarah walked into the kitchen. Sarah got the pot. Brown entered the home office. Brown took the pencil. Sarah went to the hallway. Sarah put down the pot. Brown went to the bedroom. Mary travelled to the hallway. Brown got the hat. Brown entered the dining room. Sarah travelled to the home office. Brown left the pencil.\n",
      "Question: What is the order of the rooms where the hat appeared?\n",
      "Answer: bedroom, dining room\n",
      "\n",
      "Sarah went to the bathroom. Jessica travelled to the home office. Sarah moved to the hallway. Sarah picked up the key. Sarah journeyed to the bedroom. Jessica picked up the keyboard. Samantha journeyed to the bathroom. Sarah grabbed the glasses. Sarah entered the home office. Jessica journeyed to the hallway. Jessica dropped the keyboard. Samantha grabbed the toothbrush. Jessica entered the bedroom. Samantha moved to the hallway. Jessica got the hat. Jessica walked into the dining room. Jessica grabbed the mug. Samantha entered the bedroom. Samantha got the clothes.\n",
      "Question: What is the order of the rooms where the toothbrush appeared?\n",
      "Answer: bathroom, hallway, bedroom\n",
      "\n",
      "Davis journeyed to the home office. Davis walked into the bedroom. Sarah entered the dining room. Sarah moved to the home office. Anna went to the hallway. Sarah grabbed the pencil. Sarah walked into the bathroom. Davis got the shoes. Sarah picked up the toothbrush. Anna journeyed to the kitchen. Davis walked into the dining room. Anna entered the dining room. Davis left the shoes. Anna moved to the bedroom. Anna took the hat. Anna journeyed to the bathroom. Anna left the hat.\n",
      "Question: What is the order of the rooms where the hat appeared?\n",
      "Answer:\n",
      "bedroom, bathroom\n"
     ]
    }
   ],
   "source": [
    "with open('hu-mcts-llm/data/train/train_obj_move.json', 'r') as file:\n",
    "    for l in file:\n",
    "        line_1 = eval(l)\n",
    "        break\n",
    "\n",
    "print(line_1['input'])\n",
    "print(line_1['ref'])"
   ]
  },
  {
   "cell_type": "code",
   "execution_count": 29,
   "metadata": {},
   "outputs": [
    {
     "name": "stdout",
     "output_type": "stream",
     "text": [
      "Q: How to relax? Given items include home office, sofa. The sofa is in the home office.\n",
      "A: Walk to home office. Walk to sofa. Lie on sofa.\n",
      "Q: How to read book? Given items include book, filing cabinet, bedroom, bed, child. The child is in the bedroom. The child is in the bedroom. The filing cabinet is in the bedroom. The book is in the bedroom. The bed is in the bedroom. The filing cabinet is closed. The book is inside the filing cabinet.\n",
      "A: Walk to bedroom. Walk to filing cabinet. Open filing cabinet. Grab book. Walk to bed. Sit on bed.\n",
      "Q: How to cook some food? Given items include sauce pan, pot, plate, freezer, food food, spoon, dining room. The food food is in the dining room. The pot is in the dining room. The spoon is in the dining room. The sauce pan is in the dining room. The freezer is in the dining room. The plate is in the dining room. The freezer is closed.\n",
      "A:\n",
      "Walk to home office. Walk to dining room. Walk to food food. Grab pot. Put pot on plate. Open freezer. Grab spoon. Put spoon on sauce pan.\n",
      "\n",
      "Q: How to put shoes in shoe rack? Given items include dresser, home office, shoes. The shoes is in the character. The shoes is in the home office. The dresser is in the home office. The dresser is closed.\n",
      "A: Walk to home office. Walk to dresser. Open dresser. Grab shoes. Put shoes in dresser.\n",
      "Q: How to keep an eye on stove as something is cooking? Given items include oven, pot, dining room, wall clock. The oven is on. The oven is in the dining room. The pot is in the dining room. The wall clock is in the dining room.\n",
      "A: Walk to dining room. Walk to oven. Switch off oven. Turn to wall clock.\n",
      "Q: How to cook some food? Given items include freezer, dining room, food food, microwave. The microwave is off. The microwave is plugged. The freezer is in the dining room. The food food is in the dining room. The microwave is in the dining room. The freezer is closed.\n",
      "A:\n",
      "Walk to dining room. Walk to microwave.\n"
     ]
    }
   ],
   "source": [
    "# single agent plan generation:\n",
    "with open('hu-mcts-llm/data/train/train_plan_gen.json', 'r') as file:\n",
    "    lines = []\n",
    "    for l in file:\n",
    "        lines.append(eval(l))\n",
    "\n",
    "print(lines[0]['input'])\n",
    "print(lines[0]['ref'])\n",
    "print()\n",
    "print(lines[1]['input'])\n",
    "print(lines[1]['ref'])"
   ]
  },
  {
   "cell_type": "markdown",
   "metadata": {},
   "source": []
  },
  {
   "cell_type": "code",
   "execution_count": 30,
   "metadata": {},
   "outputs": [
    {
     "name": "stdout",
     "output_type": "stream",
     "text": [
      "Taylor went to the kitchen. Anderson walked into the dining room. Taylor travelled to the bedroom. Taylor travelled to the hallway. Anderson grabbed the plate. Jessica moved to the kitchen. Taylor picked up the phone. Taylor entered the bathroom. Taylor put down the phone. Jessica picked up the fork. Jessica journeyed to the bedroom. Anderson travelled to the hallway. Jessica went to the bathroom. Jessica took the towel. Jessica entered the dining room. Jessica entered the hallway. Anderson left the plate. Anderson walked into the bedroom.\n",
      "Question: What is the order of the rooms where the plate appeared?\n",
      "Answer: dining room, hallway\n",
      "\n",
      "Samantha travelled to the hallway. Taylor moved to the home office. Taylor grabbed the mouse. Samantha travelled to the home office. John moved to the bathroom. Taylor moved to the kitchen. Samantha picked up the paper. John picked up the towel. Samantha walked into the bedroom. Samantha grabbed the shoes. John went to the dining room. Taylor picked up the knife. John entered the home office. Taylor travelled to the bedroom. Taylor walked into the hallway. Samantha travelled to the kitchen. John picked up the laptop. John travelled to the kitchen. Samantha put down the paper.\n",
      "Question: What is the order of the rooms where the shoes appeared?\n",
      "Answer: bedroom, kitchen\n",
      "\n",
      "Miller travelled to the home office. Anderson travelled to the kitchen. Davis travelled to the dining room. Davis moved to the kitchen. Anderson travelled to the hallway. Davis grabbed the pan. Davis journeyed to the home office. Anderson picked up the phone. Anderson walked into the home office. Miller picked up the keyboard. Anderson put down the phone. Anderson moved to the bedroom. Miller journeyed to the hallway. Miller moved to the kitchen. Miller left the keyboard.\n",
      "Question: What is the order of the rooms where the pan appeared?\n",
      "Answer:\n",
      "kitchen, home office\n"
     ]
    }
   ],
   "source": [
    "with open('hu-mcts-llm/data/eval/gen/obj_move_path.json', 'r') as file:\n",
    "    lines = []\n",
    "    for l in file:\n",
    "        lines.append(eval(l))\n",
    "        break\n",
    "\n",
    "print(lines[0]['input'])\n",
    "print(lines[0]['ref'])"
   ]
  },
  {
   "cell_type": "code",
   "execution_count": 31,
   "metadata": {},
   "outputs": [
    {
     "name": "stdout",
     "output_type": "stream",
     "text": [
      "Q: How to brush teeth? Given items include toothbrush, bathroom, toilet, faucet. The toothbrush is in the bathroom. The toilet is in the bathroom. The faucet is in the bathroom. The faucet is off.\n",
      "A: Walk to bathroom. Grab toothbrush. Put toothpaste on toothbrush. Brush teeth. Turn on faucet. Rinse toothbrush and mouth. Put toothbrush away.\n",
      "Q: How to make coffee? Given items include kitchen, coffee, refrigerator, coffee filter, coffee maker. The coffee is in the kitchen. The refrigerator is in the kitchen. The refrigerator is on. The coffee filter is in the kitchen. The coffee maker is in the kitchen. The coffee maker is plugged.\n",
      "A: Walk to kitchen. Grab coffee. Put coffee filter in coffee maker. Put coffee in coffee maker. Switch on coffee maker.\n",
      "Q: How to say goodbye to guests leaving? Given items include man, painting, home office, woman, child. The child is in the home office. The woman is in the home office.. The man is in the home office. The painting is in the man\n",
      "A:\n",
      "Walk to entrance hall. Walk to child. Find child. Touch child. Find man. Touch man. Find woman. Touch woman.\n"
     ]
    }
   ],
   "source": [
    "with open('hu-mcts-llm/data/eval/gen/plan_gen_confusing.json', 'r') as file:\n",
    "    lines = []\n",
    "    for l in file:\n",
    "        lines.append(eval(l))\n",
    "        break\n",
    "\n",
    "print(lines[0]['input'])\n",
    "print(lines[0]['ref'])"
   ]
  },
  {
   "cell_type": "code",
   "execution_count": 32,
   "metadata": {},
   "outputs": [
    {
     "name": "stdout",
     "output_type": "stream",
     "text": [
      "Q: How to brush teeth? Given items include toothbrush, bathroom, faucet. The toothbrush is in the bathroom. The faucet is in the bathroom. The faucet is off.\n",
      "A: Walk to bathroom. Grab toothbrush. Put toothpaste on toothbrush. Brush teeth. Turn on faucet. Rinse toothbrush and mouth. Put toothbrush away.\n",
      "Q: How to make coffee? Given items include kitchen, coffee, coffee filter, coffee maker. The coffee is in the kitchen. The coffee filter is in the kitchen. The coffee maker is in the kitchen. The coffee maker is plugged.\n",
      "A: Walk to kitchen. Grab coffee. Put coffee filter in coffee maker. Put coffee in coffee maker. Switch on coffee maker.\n",
      "Q: How to wash hands? Given items include soap, sink, water, hands both, dining room. The sink is in the dining room. The soap is in the dining room. The water is in the dining room. The hands both is in the dining room. The soap is in the sink.\n",
      "A:\n",
      "Walk to dining room. Walk to sink. Find sink. Walk to sink. Find soap. Grab soap. Put soap on sink. Find water. Grab water. Find hands both. Pour water into hands both. Scrub soap. Wash water.\n"
     ]
    }
   ],
   "source": [
    "with open('hu-mcts-llm/data/eval/gen/plan_gen_unseen.json', 'r') as file:\n",
    "    lines = []\n",
    "    for l in file:\n",
    "        lines.append(eval(l))\n",
    "        break\n",
    "\n",
    "print(lines[0]['input'])\n",
    "print(lines[0]['ref'])"
   ]
  },
  {
   "cell_type": "code",
   "execution_count": 33,
   "metadata": {},
   "outputs": [
    {
     "name": "stdout",
     "output_type": "stream",
     "text": [
      "Q: How to brush teeth? Given items include toothbrush, bathroom, toilet, faucet. The toothbrush is in the bathroom. The toilet is in the bathroom. The faucet is in the bathroom. The faucet is off.\n",
      "A: Walk to bathroom. Grab toothbrush. Put toothpaste on toothbrush. Brush teeth. Turn on faucet. Rinse toothbrush and mouth. Put toothbrush away.\n",
      "Q: How to make coffee? Given items include kitchen, coffee, refrigerator, coffee filter, coffee maker. The coffee is in the kitchen. The refrigerator is in the kitchen. The refrigerator is on. The coffee filter is in the kitchen. The coffee maker is in the kitchen. The coffee maker is plugged.\n",
      "A: Walk to kitchen. Grab coffee. Put coffee filter in coffee maker. Put coffee in coffee maker. Switch on coffee maker.\n",
      "Q: How to change tv channel? Given items include home office, remote control. The remote control is in the home office.\n",
      "A:\n",
      "Walk to home office. Walk to remote control. Grab remote control. Turn to remote control. Point at remote control.\n"
     ]
    }
   ],
   "source": [
    "with open('hu-mcts-llm/data/eval/gen/plan_gen_unseen_confusing.json', 'r') as file:\n",
    "    lines = []\n",
    "    for l in file:\n",
    "        lines.append(eval(l))\n",
    "        break\n",
    "\n",
    "print(lines[0]['input'])\n",
    "print(lines[0]['ref'])"
   ]
  },
  {
   "cell_type": "code",
   "execution_count": 34,
   "metadata": {},
   "outputs": [
    {
     "name": "stdout",
     "output_type": "stream",
     "text": [
      "Q: How to brush teeth? Given items include toothbrush, bathroom, faucet. The toothbrush is in the bathroom. The faucet is in the bathroom. The faucet is off.\n",
      "A: Walk to bathroom. Grab toothbrush. Put toothpaste on toothbrush. Brush teeth. Turn on faucet. Rinse toothbrush and mouth. Put toothbrush away.\n",
      "Q: How to make coffee? Given items include kitchen, coffee, coffee filter, coffee maker. The coffee is in the kitchen. The coffee filter is in the kitchen. The coffee maker is in the kitchen. The coffee maker is plugged.\n",
      "A: Walk to kitchen. Grab coffee. Put coffee filter in coffee maker. Put coffee in coffee maker. Switch on coffee maker.\n",
      "Q: How to wash hands? Given items include soap, sink, water, hands both, dining room. The sink is in the dining room. The soap is in the dining room. The water is in the dining room. The hands both is in the dining room. The soap is in the sink.\n",
      "A:\n",
      "Walk to dining room. Walk to sink. Find sink. Walk to sink. Find soap. Grab soap. Put soap on sink. Find water. Grab water. Find hands both. Pour water into hands both. Scrub soap. Wash water.\n"
     ]
    }
   ],
   "source": [
    "with open('hu-mcts-llm/data/eval/gen/plan_gen.json', 'r') as file:\n",
    "    lines = []\n",
    "    for l in file:\n",
    "        lines.append(eval(l))\n",
    "        break\n",
    "\n",
    "print(lines[0]['input'])\n",
    "print(lines[0]['ref'])"
   ]
  },
  {
   "cell_type": "code",
   "execution_count": 36,
   "metadata": {},
   "outputs": [
    {
     "name": "stdout",
     "output_type": "stream",
     "text": [
      "Tom is close to sink, kitchen counter, faucet, rag, cleaning solution, character. The cleaning solution is inside the sink. Tom is inside the dining room.\n",
      "Question: Given the above state, a possible activity could be\n",
      "Answer:clean sink\n",
      "\n",
      "Peter is close to rag, character, computer. Peter is inside the home office.\n",
      "Question: Given the above state, a possible activity could be\n",
      "Answer:clean screen\n",
      "\n",
      "The floor lamp is on. Mary is close to floor lamp. Mary is inside the bedroom.\n",
      "Question: Given the above state, a possible activity could be\n",
      "Answer:switch on lamp\n",
      "\n",
      "Mary is sitting. Mary is close to character, keyboard, laptop. Mary is holding the mail in the right hand. Mary is on the chair.\n",
      "Question: Given the above state, a possible activity could be\n",
      "Answer:sent email\n",
      "\n",
      "The freezer is open. Peter is close to freezer. Peter is holding the food cheese in the right hand. Peter is inside the dining room.\n",
      "Question: Given the above state, a possible activity could be\n",
      "Answer:eat cheese\n",
      "\n",
      "Mary is close to dresser, vacuum cleaner. Mary is inside the bedroom. The vacuum cleaner is inside the dresser. The toy is on the dresser.\n",
      "Question: Given the above state, a possible activity could be\n",
      "Answer:clean room\n",
      "\n",
      "Eric is facing the shoes.\n",
      "Question: Given the above state, a possible activity could be\n",
      "Answer:put on coat and shoes\n",
      "\n",
      "The alarm clock is off. Mary is close to character, alarm clock. Mary is inside the bedroom.\n",
      "Question: Given the above state, a possible activity could be\n",
      "Answer:shut off alarm\n",
      "\n",
      "Tom is close to table, controller, console, book. The book is on the table. Tom is inside the home office.\n",
      "Question: Given the above state, a possible activity could be\n",
      "Answer:bring me red cookbook\n",
      "\n",
      "Tom is close to sink, soap, faucet, bathroom counter, character. Tom is holding the towel in the right hand. Tom is inside the bathroom.\n",
      "Question: Given the above state, a possible activity could be\n",
      "Answer:hand washing\n",
      "\n",
      "Mary is sitting. Mary is close to mousepad, keyboard, cpuscreen, mouse, desk. Mary is facing the computer. Mary is on the chair. Mary is inside the home office.\n",
      "Question: Given the above state, a possible activity could be\n",
      "Answer:\n",
      "work\n"
     ]
    }
   ],
   "source": [
    "with open('hu-mcts-llm/data/eval/qa/act_infer.json', 'r') as file:\n",
    "    lines = []\n",
    "    for l in file:\n",
    "        lines.append(eval(l))\n",
    "        break\n",
    "\n",
    "print(lines[0]['input'])\n",
    "print(lines[0]['answer'])"
   ]
  },
  {
   "cell_type": "code",
   "execution_count": 39,
   "metadata": {},
   "outputs": [
    {
     "name": "stdout",
     "output_type": "stream",
     "text": [
      "Given a task plan: Walk to bathroom. Walk to rag. Find rag. Grab rag. Walk to sink. Find faucet. Wipe faucet. Wipe sink. Put back rag.\n",
      "Question: what is the name of this task?\n",
      "Answer: clean sink\n",
      "Given a task plan: Walk to dining room. Walk to cutting board. Find cutting board. Grab cutting board. Find table. Put cutting board on table. Walk to fridge. Open fridge. Find food vegetable. Grab food vegetable. Find food vegetable. Grab food vegetable. Close fridge. Walk to table. Put food vegetable on cutting board. Put food vegetable on cutting board. Find chef knife. Grab chef knife. Cut food vegetable. Cut food vegetable. Put back chef knife. Find bowl. Grab bowl. Put bowl on table. Grab cutting board. Grab food vegetable. Put food vegetable on bowl. Grab food vegetable. Put food vegetable on bowl. Grab bowl. Put back bowl.\n",
      "Question: what is the name of this task?\n",
      "Answer: chop vegetables\n",
      "Given a task plan: Walk to entrance hall. Walk to child. Find child. Touch child. Find man. Touch man. Find woman. Touch woman.\n",
      "Question: what is the name of this task?\n",
      "Answer:\n",
      "say goodbye to guests leaving\n"
     ]
    }
   ],
   "source": [
    "with open('hu-mcts-llm/data/eval/qa/act_recog.json', 'r') as file:\n",
    "    lines = []\n",
    "    for l in file:\n",
    "        lines.append(eval(l))\n",
    "        break\n",
    "\n",
    "print(lines[0]['input'])\n",
    "print(lines[0]['answer'])"
   ]
  },
  {
   "cell_type": "code",
   "execution_count": 40,
   "metadata": {},
   "outputs": [
    {
     "name": "stdout",
     "output_type": "stream",
     "text": [
      "Q: James was at home and he started his chores. First, he opened a cooking pot and grabbed an apple. Next, he pulled out a dish bowl and scrubbed another apple. He found a bookshelf and put the first apple on it. Then, he opened a clothes pile and washed it before putting it on the same bookshelf. He grabbed another dish bowl and plate and put the cutlets on the bookshelf. He moved the clothes pile, grabbed the first apple and moved it back to its original spot on the bookshelf. Finally, he put the second dish bowl on the bookshelf. How many items are there on the bookshelf?\n",
      "A: 4\n",
      "\n",
      "Q: Sue was at home. She scrubbed a closet drawer, opened a clothes pile, and grabbed a cell phone in hand. She pulled a remote control and found a coffee table. She put the cell phone on the coffee table and turned to a hanger and then to the ceiling. She grabbed a rug in hand and switched on the cell phone. She put the rug on the coffee table and lay on it. She grabbed the rug in hand and lay on it again. She found the coffee table and put the rug on it. She scrubbed the coffee table and then grabbed the rug in hand. She turned to the ceiling and found the coffee table, where she put the rug again and scrubbed it. Finally, she ran to a cabinet, grabbed a folder in hand, and scrubbed the cabinet. She found the coffee table and put the folder on it. How many items are there on the coffee table?\n",
      "A: 3\n",
      "\n",
      "Q: Samantha was at home when she came across a wall. She touched a bathroom cabinet and proceeded to wash a character. After this, she began scrubbing the bathroom cabinet twice, followed by washing the wall. She then ran to a floor, washed the character, and quickly made her way to another floor. How many items are there on the floor?\n",
      "A: 0\n",
      "\n",
      "Q: Mia was at home. She spotted a coffee table and picked up a cellphone and a wine glass. Next, she lay down, then sat on a bed, and noticed a nightstand nearby. She placed the wine glass on it, headed over to some slippers and put the cellphone down on another nightstand. Mia then grabbed the cellphone, pulled it towards her, and located the first nightstand. There, she put the cellphone down before walking to a nearby window. Eventually, she hurriedly made her way to the kitchen. How many items are there on the nightstand?\n",
      "A: 2\n",
      "\n",
      "Q: Andrew was at home. He rinsed a plate and grabbed a candle, then turned on a cell phone. He found a nightstand and put the candle on it. He washed the slippers and ran to a floor, where he touched a bookshelf. How many items are there on the nightstand?\n",
      "A: 1\n",
      "\n",
      "Q: Jason was at home. He pressed a cell phone, then picked up a rug and sat down on the bed. He washed his slippers before finding a desk and placing the rug on it. After cleaning the floor and a character, he grabbed the rug and touched the desk. He moved the desk, opened it, and took the rug in his hand again. Running to a housemate, he rinsed the rug before returning to the desk to place it on top once more. How many items are there on the desk?\n",
      "A:\n",
      "1\n"
     ]
    }
   ],
   "source": [
    "with open('hu-mcts-llm/data/eval/qa/count.json', 'r') as file:\n",
    "    lines = []\n",
    "    for l in file:\n",
    "        lines.append(eval(l))\n",
    "        break\n",
    "\n",
    "print(lines[0]['input'])\n",
    "print(lines[0]['answer'])"
   ]
  },
  {
   "cell_type": "code",
   "execution_count": 41,
   "metadata": {},
   "outputs": [
    {
     "name": "stdout",
     "output_type": "stream",
     "text": [
      "Question: To work, a possibly related item could be\n",
      "Answer: desk\n",
      "\n",
      "Question: To take off shoes, a possibly related item could be\n",
      "Answer: closet\n",
      "\n",
      "Question: To set up buffet area, a possibly related item could be\n",
      "Answer: bowl\n",
      "\n",
      "Question: To file documents, a possibly related item could be\n",
      "Answer: document\n",
      "\n",
      "Question: To put up decoration, a possibly related item could be\n",
      "Answer: centerpiece\n",
      "\n",
      "Question: To change tv channel, a possibly related item could be\n",
      "Answer: television\n",
      "\n",
      "Question: To use toilet, a possibly related item could be\n",
      "Answer: toilet\n",
      "\n",
      "Question: To send  email, a possibly related item could be\n",
      "Answer: chair\n",
      "\n",
      "Question: To sent email, a possibly related item could be\n",
      "Answer: keyboard\n",
      "\n",
      "Question: To wash sink, a possibly related item could be\n",
      "Answer: rag\n",
      "\n",
      "Question: To wash clothes, a possibly related item could be\n",
      "Answer:\n",
      "laundry detergent\n"
     ]
    }
   ],
   "source": [
    "with open('hu-mcts-llm/data/eval/qa/housework_qa.json', 'r') as file:\n",
    "    lines = []\n",
    "    for l in file:\n",
    "        lines.append(eval(l))\n",
    "        break\n",
    "\n",
    "print(lines[0]['input'])\n",
    "print(lines[0]['answer'])"
   ]
  },
  {
   "cell_type": "code",
   "execution_count": 42,
   "metadata": {},
   "outputs": [
    {
     "name": "stdout",
     "output_type": "stream",
     "text": [
      "Question: To pick up toys, a unrelated item could be\n",
      "A: bench\n",
      "B: cabinet\n",
      "C: dresser\n",
      "D: toy\n",
      "Answer: bench\n",
      "\n",
      "Question: To manage emails, a unrelated item could be\n",
      "A: keyboard\n",
      "B: door\n",
      "C: computer\n",
      "D: mail\n",
      "Answer: door\n",
      "\n",
      "Question: To clean room, a unrelated item could be\n",
      "A: vacuum cleaner\n",
      "B: note pad\n",
      "C: closet\n",
      "D: toy\n",
      "Answer: note pad\n",
      "\n",
      "Question: To organize closet, a unrelated item could be\n",
      "A: basket for clothes\n",
      "B: clothes pants\n",
      "C: clothes shirt\n",
      "D: hanger\n",
      "Answer: hanger\n",
      "\n",
      "Question: To turn on tv, a unrelated item could be\n",
      "A: chair\n",
      "B: television\n",
      "C: condiment bottle\n",
      "D: remote control\n",
      "Answer: condiment bottle\n",
      "\n",
      "Question: To pick up spare change on dresser, a unrelated item could be\n",
      "A: coin\n",
      "B: feet right\n",
      "C: dresser\n",
      "D: cup\n",
      "Answer: feet right\n",
      "\n",
      "Question: To dry soap bottles, a unrelated item could be\n",
      "A: soap\n",
      "B: cup\n",
      "C: towel\n",
      "D: vacuum cleaner\n",
      "Answer: cup\n",
      "\n",
      "Question: To file documents, a unrelated item could be\n",
      "A: bills\n",
      "B: sundae\n",
      "C: document\n",
      "D: filing cabinet\n",
      "Answer: sundae\n",
      "\n",
      "Question: To get dressed, a unrelated item could be\n",
      "A: cereal\n",
      "B: clothes dress\n",
      "C: bed\n",
      "D: closet\n",
      "Answer: cereal\n",
      "\n",
      "Question: To play games, a unrelated item could be\n",
      "A: food salt\n",
      "B: video game controller\n",
      "C: video game console\n",
      "D: chair\n",
      "Answer: food salt\n",
      "\n",
      "Question: To work, a unrelated item could be\n",
      "A: iron\n",
      "B: desk\n",
      "C: computer\n",
      "D: chair\n",
      "Answer:\n",
      "iron\n"
     ]
    }
   ],
   "source": [
    "with open('hu-mcts-llm/data/eval/qa/neg_housework_qa.json', 'r') as file:\n",
    "    lines = []\n",
    "    for l in file:\n",
    "        lines.append(eval(l))\n",
    "        break\n",
    "\n",
    "print(lines[0]['input'])\n",
    "print(lines[0]['answer'])"
   ]
  },
  {
   "cell_type": "code",
   "execution_count": 43,
   "metadata": {},
   "outputs": [
    {
     "name": "stdout",
     "output_type": "stream",
     "text": [
      "John picked up the apple. John went to the office. Mary entered the bedroom. Mary got the pillow. John went to the kitchen. Mary moved to the office.\n",
      "Question: Where is the apple before the kitchen?\n",
      "Answer: office\n",
      "\n",
      "John travelled to the dining room. John grabbed the fork. Mary went to the kitchen. Mary got the milk. John journeyed to the bathroom. Mary moved to the garden. John travelled to the office.\n",
      "Question: Where is the fork before the office?\n",
      "Answer: bathroom\n",
      "\n",
      "Samantha journeyed to the bathroom. Anna entered the bedroom. John went to the kitchen. Anna picked up the glasses. Samantha picked up the toothbrush. John grabbed the bowl. John went to the home office. Samantha moved to the dining room. Samantha went to the home office. Anna journeyed to the home office. John put down the bowl. John journeyed to the bathroom. Anna went to the dining room. Anna left the glasses. Samantha took the pen. John journeyed to the hallway. Anna went to the hallway. Samantha went to the kitchen. John picked up the wallet. Samantha travelled to the bedroom. Anna got the phone. Anna entered the bathroom. Anna got the soap. John journeyed to the bedroom.\n",
      "Question: Where was the toothbrush before the bedroom?\n",
      "Answer:\n",
      "kitchen\n"
     ]
    }
   ],
   "source": [
    "with open('hu-mcts-llm/data/eval/qa/obj_move.json', 'r') as file:\n",
    "    lines = []\n",
    "    for l in file:\n",
    "        lines.append(eval(l))\n",
    "        break\n",
    "\n",
    "print(lines[0]['input'])\n",
    "print(lines[0]['answer'])"
   ]
  },
  {
   "cell_type": "code",
   "execution_count": null,
   "metadata": {},
   "outputs": [],
   "source": []
  }
 ],
 "metadata": {
  "kernelspec": {
   "display_name": "dsc80",
   "language": "python",
   "name": "python3"
  },
  "language_info": {
   "codemirror_mode": {
    "name": "ipython",
    "version": 3
   },
   "file_extension": ".py",
   "mimetype": "text/x-python",
   "name": "python",
   "nbconvert_exporter": "python",
   "pygments_lexer": "ipython3",
   "version": "3.8.18"
  }
 },
 "nbformat": 4,
 "nbformat_minor": 2
}
